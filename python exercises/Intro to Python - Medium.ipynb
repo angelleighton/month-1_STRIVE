{
 "cells": [
  {
   "cell_type": "markdown",
   "metadata": {},
   "source": [
    "Here you have a collection of guided exercises for the first class on Python. <br>\n",
    "The exercises are divided by topic, following the topics reviewed during the theory session, and for each topic you have some mandatory exercises, and other optional exercises, which you are invited to do if you still have time after the mandatory exercises. <br>\n",
    "\n",
    "Remember that you have 5 hours to solve these exercises, after which we will review the most interesting exercises together. If you don't finish all the exercises, you can work on them tonightor tomorrow. \n",
    "\n",
    "At the end of the class, we will upload the code with the solutions of the exercises so that you can review them again if needed. If you still have not finished some exercises, try to do them first by yourself, before taking a look at the solutions: you are doing these exercises for yourself, so it is always the best to do them your way first, as it is the fastest way to learn!"
   ]
  },
  {
   "cell_type": "markdown",
   "metadata": {},
   "source": [
    "**Exercise 1.3 (🌶️):** You look at the clock and see that it is currently 14.00h. You set an alarm to go off 535 hours later. At what time will the alarm go off? Write a program that prints the answer. Hint: for the best solution, you will need the modulo operator. Second hint: The answer is 21.00h, but of course, this exercise is not about the answer, but about how you get it."
   ]
  },
  {
   "cell_type": "code",
   "execution_count": 1,
   "metadata": {},
   "outputs": [],
   "source": [
    "def AddTime (start_time, hours):\n",
    "    total_hours = start_time + hours\n",
    "    timer = total_hours / 24\n",
    "    start_time = 1400\n",
    "    hours = 535\n",
    "    print(start_time + hours)\n",
    "    print(total_hours / 24)\n",
    " \n",
    "    return(timer)\n",
    "\n",
    "AddTime(14,535)"
   ]
  },
  {
   "cell_type": "markdown",
   "metadata": {},
   "source": [
    "**Exercise 5.4 (🌶️):** \"99 bottles of beer\" is a traditional song in the United States and Canada. It is popular to sing on long trips, as it has a very repetitive format which is easy to memorize, and can take a long time to sing. The song's simple lyrics are as follows: \"99 bottles of beer on the wall, 99 bottles of beer. Take one down, pass it around, 98 bottles of beer on the wall.\" The same verse is repeated, each time with one fewer bottle. The song is completed when the singer or singers reach zero. Write a function that generates and prints all the verses of the song (though you might start a bit lower, for instance with 10 bottles). Make sure that your loop is not endless, and that you use the proper inflection for the word \"bottle\"."
   ]
  },
  {
   "cell_type": "code",
   "execution_count": 22,
   "metadata": {},
   "outputs": [
    {
     "name": "stdout",
     "output_type": "stream",
     "text": [
      "10 bottles of beer on the wall, 10 bottles of beer.\n",
      "Take one down, pass it around, 9 bottles of beer on the wall.\n",
      "9 bottles of beer on the wall, 9 bottles of beer.\n",
      "Take one down, pass it around, 8 bottles of beer on the wall.\n",
      "8 bottles of beer on the wall, 8 bottles of beer.\n",
      "Take one down, pass it around, 7 bottles of beer on the wall.\n",
      "7 bottles of beer on the wall, 7 bottles of beer.\n",
      "Take one down, pass it around, 6 bottles of beer on the wall.\n",
      "6 bottles of beer on the wall, 6 bottles of beer.\n",
      "Take one down, pass it around, 5 bottles of beer on the wall.\n",
      "5 bottles of beer on the wall, 5 bottles of beer.\n",
      "Take one down, pass it around, 4 bottles of beer on the wall.\n",
      "4 bottles of beer on the wall, 4 bottles of beer.\n",
      "Take one down, pass it around, 3 bottles of beer on the wall.\n",
      "3 bottles of beer on the wall, 3 bottles of beer.\n",
      "Take one down, pass it around, 2 bottles of beer on the wall.\n",
      "2 bottles of beer on the wall, 2 bottles of beer.\n",
      "Take one down, pass it around, 1 bottle of beer on the wall.\n",
      "1 bottle of beer on the wall, 1 bottle of beer.\n",
      "Take one down, pass it around, no bottles of beer on the wall.\n"
     ]
    }
   ],
   "source": [
    "bottles = 10 \n",
    "s = \"s\"\n",
    "\n",
    "while bottles != \"no\":\n",
    "    print( \"{0} bottle{1} of beer on the wall, \"\n",
    "        \"{0} bottle{1} of beer.\".format(bottles, s)) \n",
    "    bottles -= 1\n",
    "    if bottles == 1: \n",
    "        s = \"\"\n",
    "    elif bottles == 0: \n",
    "        s = \"s\"\n",
    "        bottles = \"no\"\n",
    "    print( \"Take one down, pass it around, {} bottle{} \" \n",
    "    \"of beer on the wall.\".format(bottles, s)) \n",
    "\n"
   ]
  },
  {
   "cell_type": "markdown",
   "metadata": {},
   "source": [
    "**Exercise 5.5 (🌶️):** The Fibonacci sequence is a sequence of numbers that starts with 1, followed by 1 again. Every next number is the sum of the two previous numbers. I.e., the sequence starts with 1, 1, 2, 3, 5, 8, 13, 21,... Write a function that calculates and prints the Fibonacci sequence until the numbers get higher than a `maximum`."
   ]
  },
  {
   "cell_type": "code",
   "execution_count": 8,
   "metadata": {},
   "outputs": [
    {
     "name": "stdout",
     "output_type": "stream",
     "text": [
      "34\n"
     ]
    }
   ],
   "source": [
    "def Fibonacci(n):\n",
    "    if n<0:\n",
    "        print(\"Incorrect input\")\n",
    "    elif n==0:    #1st number 0\n",
    "        return 0\n",
    "    elif n==1:    #2nd number 1\n",
    "        return 1\n",
    "    else:\n",
    "        return Fibonacci(n-1)+Fibonacci(n-2)   #nth\n",
    " \n",
    "print(Fibonacci(9))"
   ]
  },
  {
   "cell_type": "markdown",
   "metadata": {},
   "source": [
    "**Exercise 5.8 (🌶️):** A, B, C, and D are all different digits. The number DCBA is equal to 4 times the number ABCD. What are the digits? Note: to make ABCD and DCBA conventional numbers, neither A nor D can be zero. Use a quadruple-nested loop."
   ]
  },
  {
   "cell_type": "code",
   "execution_count": 1,
   "metadata": {},
   "outputs": [
    {
     "name": "stdout",
     "output_type": "stream",
     "text": [
      "A = 2 \n",
      "B = 1 \n",
      "C = 7 \n",
      "D = 8\n"
     ]
    }
   ],
   "source": [
    "#Your Code Here\n",
    "for a in range(1,9):\n",
    "    for b in range(0,9):\n",
    "        for c in range(0,9):\n",
    "           for d in range(1,9):\n",
    "               if 4* (1000 * a + 100 * b + 10 * c + d) == \\\n",
    "                  (a + 10 * b + 100 * c + 1000 * d):\n",
    "                   print('A =', a, '\\n' 'B =', b, '\\n' 'C =', c, '\\n' 'D =', d) \n",
    "    "
   ]
  }
 ],
 "metadata": {
  "kernelspec": {
   "display_name": "Python 3",
   "language": "python",
   "name": "python3"
  },
  "language_info": {
   "codemirror_mode": {
    "name": "ipython",
    "version": 3
   },
   "file_extension": ".py",
   "mimetype": "text/x-python",
   "name": "python",
   "nbconvert_exporter": "python",
   "pygments_lexer": "ipython3",
   "version": "3.8.5"
  }
 },
 "nbformat": 4,
 "nbformat_minor": 4
}
